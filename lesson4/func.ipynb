{
 "cells": [
  {
   "cell_type": "code",
   "execution_count": null,
   "metadata": {},
   "outputs": [],
   "source": [
    "while True:\n",
    "    user = int(input('가위, 바위, 보: '))\n",
    "    com = sel[random.randint(0,2)]\n",
    "    if checkWin(user, com):\n",
    "        if continueConfirm():\n",
    "            continue\n",
    "        else:\n",
    "            break\n",
    "# 0 < 1 < 2\n",
    "# 2 < 0\n",
    "def checkWin(user, com):\n",
    "    if (user + com) == 2:\n",
    "        if user < com:\n",
    "            return True\n",
    "        else: return False\n",
    "    else:\n",
    "        \n",
    "\n",
    "def continueConfirm():"
   ]
  },
  {
   "cell_type": "code",
   "execution_count": 1,
   "metadata": {},
   "outputs": [
    {
     "ename": "TypeError",
     "evalue": "Random.randint() missing 1 required positional argument: 'b'",
     "output_type": "error",
     "traceback": [
      "\u001b[1;31m---------------------------------------------------------------------------\u001b[0m",
      "\u001b[1;31mTypeError\u001b[0m                                 Traceback (most recent call last)",
      "Cell \u001b[1;32mIn[1], line 17\u001b[0m\n\u001b[0;32m     14\u001b[0m         \u001b[38;5;28;01melse\u001b[39;00m:\n\u001b[0;32m     15\u001b[0m             turtle\u001b[38;5;241m.\u001b[39mforward(w)\n\u001b[1;32m---> 17\u001b[0m w \u001b[38;5;241m=\u001b[39m \u001b[43mgetRandomNumber\u001b[49m\u001b[43m(\u001b[49m\u001b[38;5;241;43m50\u001b[39;49m\u001b[43m)\u001b[49m\n\u001b[0;32m     18\u001b[0m h \u001b[38;5;241m=\u001b[39m getRandomNumber(\u001b[38;5;241m50\u001b[39m)\n\u001b[0;32m     20\u001b[0m drawRectangle(w,h)\n",
      "Cell \u001b[1;32mIn[1], line 8\u001b[0m, in \u001b[0;36mgetRandomNumber\u001b[1;34m(num)\u001b[0m\n\u001b[0;32m      7\u001b[0m \u001b[38;5;28;01mdef\u001b[39;00m \u001b[38;5;21mgetRandomNumber\u001b[39m(num):\n\u001b[1;32m----> 8\u001b[0m     \u001b[38;5;28;01mreturn\u001b[39;00m \u001b[43mrd\u001b[49m\u001b[38;5;241;43m.\u001b[39;49m\u001b[43mrandint\u001b[49m\u001b[43m(\u001b[49m\u001b[43mnum\u001b[49m\u001b[43m)\u001b[49m\n",
      "\u001b[1;31mTypeError\u001b[0m: Random.randint() missing 1 required positional argument: 'b'"
     ]
    },
    {
     "ename": "",
     "evalue": "",
     "output_type": "error",
     "traceback": [
      "\u001b[1;31mThe Kernel crashed while executing code in the current cell or a previous cell. \n",
      "\u001b[1;31mPlease review the code in the cell(s) to identify a possible cause of the failure. \n",
      "\u001b[1;31mClick <a href='https://aka.ms/vscodeJupyterKernelCrash'>here</a> for more info. \n",
      "\u001b[1;31mView Jupyter <a href='command:jupyter.viewOutput'>log</a> for further details."
     ]
    }
   ],
   "source": [
    "import random as rd\n",
    "import turtle as t\n",
    "\n",
    "screen = t.getscreen()\n",
    "turtle = t.Turtle()\n",
    "\n",
    "def getRandomNumber(num):\n",
    "    return rd.randint(num)\n",
    "\n",
    "def drawRectangle(w, h):\n",
    "    for i in range(4):\n",
    "        if i % 2 == 0:\n",
    "            turtle.forward(h)\n",
    "        else:\n",
    "            turtle.forward(w)\n",
    "\n",
    "w = getRandomNumber(50)\n",
    "h = getRandomNumber(50)\n",
    "\n",
    "drawRectangle(w,h)"
   ]
  }
 ],
 "metadata": {
  "kernelspec": {
   "display_name": ".venv",
   "language": "python",
   "name": "python3"
  },
  "language_info": {
   "codemirror_mode": {
    "name": "ipython",
    "version": 3
   },
   "file_extension": ".py",
   "mimetype": "text/x-python",
   "name": "python",
   "nbconvert_exporter": "python",
   "pygments_lexer": "ipython3",
   "version": "3.11.2"
  }
 },
 "nbformat": 4,
 "nbformat_minor": 2
}

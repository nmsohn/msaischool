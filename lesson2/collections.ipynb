{
 "cells": [
  {
   "cell_type": "code",
   "execution_count": null,
   "metadata": {},
   "outputs": [],
   "source": [
    "defaultCoffee = 10\n",
    "amount = 0\n",
    "\n",
    "while True:\n",
    "    amount += input('Coin inserted: ')\n",
    "    if defaultCoffee == 0:\n",
    "        return 'Out of coffee'\n",
    "\n",
    "    if amount > 300:\n",
    "        defaultCoffee -= 1\n",
    "        change = amount - 300\n",
    "        return change\n",
    "\n",
    "    if amount == 300:\n",
    "        defaultCoffee -= 1\n",
    "\n",
    "    if amount < 300:\n",
    "        break"
   ]
  },
  {
   "cell_type": "code",
   "execution_count": 5,
   "metadata": {},
   "outputs": [
    {
     "name": "stdout",
     "output_type": "stream",
     "text": [
      "2 4 6 8 10 12 14 16 18 \n",
      "3 6 9 12 15 18 21 24 27 \n",
      "4 8 12 16 20 24 28 32 36 \n",
      "5 10 15 20 25 30 35 40 45 \n",
      "6 12 18 24 30 36 42 48 54 \n",
      "7 14 21 28 35 42 49 56 63 \n",
      "8 16 24 32 40 48 56 64 72 \n",
      "9 18 27 36 45 54 63 72 81 \n"
     ]
    }
   ],
   "source": [
    "for i in range(2,10):\n",
    "    for j in range(1,10):\n",
    "        print(i * j, end=' ')\n",
    "    print()"
   ]
  },
  {
   "cell_type": "markdown",
   "metadata": {},
   "source": [
    "### 리스트"
   ]
  },
  {
   "cell_type": "code",
   "execution_count": 8,
   "metadata": {},
   "outputs": [],
   "source": [
    "a = []\n",
    "a = [1, 'sdfsd', [1]]"
   ]
  },
  {
   "cell_type": "code",
   "execution_count": 12,
   "metadata": {},
   "outputs": [
    {
     "data": {
      "text/plain": [
       "[7, 6, 5, 4, 3, 2, 1]"
      ]
     },
     "execution_count": 12,
     "metadata": {},
     "output_type": "execute_result"
    }
   ],
   "source": [
    "a = [1,2,3,4,5,6,7]\n",
    "a[1:]\n",
    "a[:3]\n",
    "a[::]\n",
    "a[-1]\n",
    "a[::-1]"
   ]
  },
  {
   "cell_type": "code",
   "execution_count": 13,
   "metadata": {},
   "outputs": [
    {
     "data": {
      "text/plain": [
       "3"
      ]
     },
     "execution_count": 13,
     "metadata": {},
     "output_type": "execute_result"
    }
   ],
   "source": [
    "a = ['apple', 'sdfsd', [1,2,3]]\n",
    "\n",
    "a[-1][-1]"
   ]
  },
  {
   "cell_type": "code",
   "execution_count": 16,
   "metadata": {},
   "outputs": [
    {
     "data": {
      "text/plain": [
       "[1, 2, 3, 4]"
      ]
     },
     "execution_count": 16,
     "metadata": {},
     "output_type": "execute_result"
    }
   ],
   "source": [
    "b = [1,2,3,4,5,6,6]\n",
    "del b[-1]\n",
    "del b[4:]\n",
    "b"
   ]
  },
  {
   "cell_type": "code",
   "execution_count": 19,
   "metadata": {},
   "outputs": [
    {
     "data": {
      "text/plain": [
       "[1, 2, 3, 4, 5, 6, [7, 8]]"
      ]
     },
     "execution_count": 19,
     "metadata": {},
     "output_type": "execute_result"
    }
   ],
   "source": [
    "b = [1,2,3,4,5,6]\n",
    "b.append([7,8])\n",
    "b"
   ]
  },
  {
   "cell_type": "code",
   "execution_count": 21,
   "metadata": {},
   "outputs": [
    {
     "data": {
      "text/plain": [
       "[1, 2, 3, 4, 5, 6]"
      ]
     },
     "execution_count": 21,
     "metadata": {},
     "output_type": "execute_result"
    }
   ],
   "source": [
    "b = [1,2,3,4,5]\n",
    "b += [6]\n",
    "b"
   ]
  },
  {
   "cell_type": "code",
   "execution_count": 23,
   "metadata": {},
   "outputs": [
    {
     "data": {
      "text/plain": [
       "[1, 2, 3, 4]"
      ]
     },
     "execution_count": 23,
     "metadata": {},
     "output_type": "execute_result"
    }
   ],
   "source": [
    "b = [1,2,4]\n",
    "b.insert(2,3)\n",
    "b"
   ]
  },
  {
   "cell_type": "code",
   "execution_count": 24,
   "metadata": {},
   "outputs": [
    {
     "data": {
      "text/plain": [
       "4"
      ]
     },
     "execution_count": 24,
     "metadata": {},
     "output_type": "execute_result"
    }
   ],
   "source": [
    "b.pop()"
   ]
  },
  {
   "cell_type": "code",
   "execution_count": 25,
   "metadata": {},
   "outputs": [
    {
     "data": {
      "text/plain": [
       "3"
      ]
     },
     "execution_count": 25,
     "metadata": {},
     "output_type": "execute_result"
    }
   ],
   "source": [
    "b = [1,2,3,4,5,6]\n",
    "b.pop(2)"
   ]
  },
  {
   "cell_type": "code",
   "execution_count": 29,
   "metadata": {},
   "outputs": [
    {
     "data": {
      "text/plain": [
       "[1, 2, 4, 5, 6]"
      ]
     },
     "execution_count": 29,
     "metadata": {},
     "output_type": "execute_result"
    }
   ],
   "source": [
    "b = [1,2,3,4,5,6]\n",
    "b.remove(3)\n",
    "b"
   ]
  },
  {
   "cell_type": "code",
   "execution_count": 31,
   "metadata": {},
   "outputs": [
    {
     "data": {
      "text/plain": [
       "[6, 5, 4, 2, 1]"
      ]
     },
     "execution_count": 31,
     "metadata": {},
     "output_type": "execute_result"
    }
   ],
   "source": [
    "b.sort(reverse=True)\n",
    "b"
   ]
  },
  {
   "cell_type": "code",
   "execution_count": 38,
   "metadata": {},
   "outputs": [
    {
     "name": "stdout",
     "output_type": "stream",
     "text": [
      "75.0\n"
     ]
    }
   ],
   "source": [
    "score = [70, 80, 90, 100, 30, 95, 60]\n",
    "\n",
    "len(score)\n",
    "sum(score)\n",
    "max(score)\n",
    "min(score)\n",
    "\n",
    "avg = sum(score) / len(score)\n",
    "print(avg)"
   ]
  },
  {
   "cell_type": "code",
   "execution_count": 40,
   "metadata": {},
   "outputs": [
    {
     "name": "stdout",
     "output_type": "stream",
     "text": [
      "1\n",
      "2\n",
      "3\n",
      "5\n"
     ]
    }
   ],
   "source": [
    "for i, s in enumerate(score):\n",
    "    if s >= 80:\n",
    "        print(i)"
   ]
  },
  {
   "cell_type": "code",
   "execution_count": 46,
   "metadata": {},
   "outputs": [
    {
     "name": "stdout",
     "output_type": "stream",
     "text": [
      "끝말잇기\n",
      "시작\n",
      "가나다\n",
      "\n"
     ]
    },
    {
     "ename": "IndexError",
     "evalue": "string index out of range",
     "output_type": "error",
     "traceback": [
      "\u001b[1;31m---------------------------------------------------------------------------\u001b[0m",
      "\u001b[1;31mIndexError\u001b[0m                                Traceback (most recent call last)",
      "Cell \u001b[1;32mIn[46], line 13\u001b[0m\n\u001b[0;32m     11\u001b[0m     \u001b[38;5;28mprint\u001b[39m(\u001b[38;5;124m'\u001b[39m\u001b[38;5;124m땡\u001b[39m\u001b[38;5;124m'\u001b[39m)\n\u001b[0;32m     12\u001b[0m     \u001b[38;5;28;01mbreak\u001b[39;00m\n\u001b[1;32m---> 13\u001b[0m \u001b[38;5;28;01mif\u001b[39;00m \u001b[43muserInput\u001b[49m\u001b[43m[\u001b[49m\u001b[38;5;241;43m0\u001b[39;49m\u001b[43m]\u001b[49m \u001b[38;5;241m!=\u001b[39m var[\u001b[38;5;241m-\u001b[39m\u001b[38;5;241m1\u001b[39m] \u001b[38;5;129;01mor\u001b[39;00m \u001b[38;5;28mlen\u001b[39m(userInput) \u001b[38;5;241m<\u001b[39m \u001b[38;5;241m2\u001b[39m:\n\u001b[0;32m     14\u001b[0m    \u001b[38;5;28mprint\u001b[39m(\u001b[38;5;124m'\u001b[39m\u001b[38;5;124m땡\u001b[39m\u001b[38;5;124m'\u001b[39m)\n\u001b[0;32m     15\u001b[0m    \u001b[38;5;28;01mbreak\u001b[39;00m\n",
      "\u001b[1;31mIndexError\u001b[0m: string index out of range"
     ]
    }
   ],
   "source": [
    "print('끝말잇기')\n",
    "print('시작')\n",
    "var= '가나다'\n",
    "cache = []\n",
    "print(var)\n",
    "cache.append(var)\n",
    "while True:\n",
    "    userInput = input('단어입력: ')\n",
    "    print(userInput)\n",
    "    if userInput in cache:\n",
    "        print('땡')\n",
    "        break\n",
    "    if userInput[0] != var[-1] or len(userInput) < 2:\n",
    "       print('땡')\n",
    "       break\n",
    "    else:\n",
    "        [].append(userInput)\n",
    "        var = userInput"
   ]
  },
  {
   "cell_type": "code",
   "execution_count": 52,
   "metadata": {},
   "outputs": [
    {
     "name": "stdout",
     "output_type": "stream",
     "text": [
      "Welcome to fruit store\n",
      "Available stock: ['apple', 'banana', 'orange', 'grapes', 'watermelon']\n",
      "You have purchased: apple. Current stock for apple: 2\n",
      "Welcome to fruit store\n",
      "Available stock: ['apple', 'banana', 'orange', 'grapes', 'watermelon']\n",
      "You have purchased: apple. Current stock for apple: 1\n",
      "Welcome to fruit store\n",
      "Available stock: ['apple', 'banana', 'orange', 'grapes', 'watermelon']\n",
      "You have purchased: apple. Current stock for apple: 0\n",
      "Welcome to fruit store\n",
      "Available stock: ['banana', 'orange', 'grapes', 'watermelon']\n",
      "Not available\n"
     ]
    }
   ],
   "source": [
    "stock = {'apple':3, 'banana':3, 'orange':3, 'grapes':3, 'watermelon':3}\n",
    "\n",
    "while True:\n",
    "    print('Welcome to fruit store')\n",
    "    print(f'Available stock: {list(stock.keys())}')\n",
    "\n",
    "    userInput = input('Purchase?: ')\n",
    "    if userInput not in list(stock.keys()):\n",
    "        print('Not available')\n",
    "        break\n",
    "\n",
    "    if stock[userInput] < 1:\n",
    "        print('Not available')\n",
    "        break\n",
    "\n",
    "    stock[userInput] -= 1\n",
    "    print(f'You have purchased: {userInput}. Current stock for {userInput}: {stock[userInput]}')\n",
    "\n",
    "    if stock[userInput] == 0:\n",
    "        del stock[userInput]\n",
    "    if sum(stock.values()) == 0:\n",
    "        print('All sold out')\n",
    "        break"
   ]
  },
  {
   "cell_type": "code",
   "execution_count": null,
   "metadata": {},
   "outputs": [],
   "source": [
    "todo = []\n",
    "while True:\n",
    "    print('Menu(1: Add, 2: Delete, 0:Quit)')\n",
    "    userInput = input('Select Menu: ')\n",
    "    if userInput == '1':\n",
    "        added = input('Add Todo:')\n",
    "        todo.append(added)\n",
    "\n",
    "    elif userInput == '2':\n",
    "        complete = input('Complete todo: ')\n",
    "        if complete in todo:\n",
    "            todo.remove(complete)\n",
    "    elif userInput == '0':\n",
    "        print('Closing the program')\n",
    "        break\n",
    "    else:\n",
    "        print('Invalid menu option')\n",
    "        continue\n",
    "    print('*' * 30)\n",
    "    for i, t in enumerate(todo):\n",
    "        print(f'{i}.{t}')\n",
    "    print('*' * 30)"
   ]
  },
  {
   "cell_type": "code",
   "execution_count": 54,
   "metadata": {},
   "outputs": [
    {
     "name": "stdout",
     "output_type": "stream",
     "text": [
      "Menu(1: Add, 2: Search, 0:Quit)\n",
      "Available: []\n",
      "Menu(1: Add, 2: Search, 0:Quit)\n",
      "Available: []\n",
      "Menu(1: Add, 2: Search, 0:Quit)\n",
      "Menu(1: Add, 2: Search, 0:Quit)\n",
      "Available: ['유재석']\n",
      "유재석 phone number: 010-4344-4343\n",
      "Menu(1: Add, 2: Search, 0:Quit)\n",
      "Closing the program\n"
     ]
    }
   ],
   "source": [
    "contact = {}\n",
    "while True:\n",
    "    print('Menu(1: Add, 2: Search, 0:Quit)')\n",
    "    userInput = input('Select Menu: ')\n",
    "\n",
    "    if userInput == '1':\n",
    "        friend = input('Add Friend:')\n",
    "        if friend in contact:\n",
    "            print(f'{friend} already registered')\n",
    "        else:\n",
    "            phone = input('Phone number: ')\n",
    "            contact[friend] = phone\n",
    "    elif userInput == '2':\n",
    "        print(f'Available: {list(contact.keys())}')\n",
    "        complete = input('Search contacts: ')\n",
    "        if complete in contact:\n",
    "            print(f'{complete} phone number: {contact[complete]}')\n",
    "        else:\n",
    "            print('Cannot find the person')\n",
    "    elif userInput == '0':\n",
    "        print('Closing the program')\n",
    "        break\n",
    "    else:\n",
    "        print('Invalid menu option')\n",
    "        continue"
   ]
  },
  {
   "cell_type": "code",
   "execution_count": 57,
   "metadata": {},
   "outputs": [
    {
     "data": {
      "text/plain": [
       "int"
      ]
     },
     "execution_count": 57,
     "metadata": {},
     "output_type": "execute_result"
    }
   ],
   "source": [
    "t1 = ()\n",
    "t2 = (1)\n",
    "t3 = (1,)\n"
   ]
  },
  {
   "cell_type": "code",
   "execution_count": 58,
   "metadata": {},
   "outputs": [
    {
     "data": {
      "text/plain": [
       "{1, 2, 3, 4}"
      ]
     },
     "execution_count": 58,
     "metadata": {},
     "output_type": "execute_result"
    }
   ],
   "source": [
    "s1 = {1,2,3,4}\n",
    "s2 = set([1,2,3,3,4])\n",
    "\n",
    "s2"
   ]
  },
  {
   "cell_type": "code",
   "execution_count": 60,
   "metadata": {},
   "outputs": [
    {
     "data": {
      "text/plain": [
       "{1, 2, 3}"
      ]
     },
     "execution_count": 60,
     "metadata": {},
     "output_type": "execute_result"
    }
   ],
   "source": [
    "s3 = set([1,2,3,4,5,6])\n",
    "s4 = set([4,5,6,7,8,9])\n",
    "\n",
    "s3 - s4"
   ]
  },
  {
   "cell_type": "code",
   "execution_count": 61,
   "metadata": {},
   "outputs": [
    {
     "data": {
      "text/plain": [
       "{1, 2, 3}"
      ]
     },
     "execution_count": 61,
     "metadata": {},
     "output_type": "execute_result"
    }
   ],
   "source": [
    "s3.difference(s4)"
   ]
  },
  {
   "cell_type": "code",
   "execution_count": 63,
   "metadata": {},
   "outputs": [
    {
     "data": {
      "text/plain": [
       "False"
      ]
     },
     "execution_count": 63,
     "metadata": {},
     "output_type": "execute_result"
    }
   ],
   "source": [
    "lis = [10,20,30,40,50]\n",
    "\n",
    "30 in lis\n",
    "60 in lis"
   ]
  },
  {
   "cell_type": "code",
   "execution_count": 65,
   "metadata": {},
   "outputs": [
    {
     "data": {
      "text/plain": [
       "True"
      ]
     },
     "execution_count": 65,
     "metadata": {},
     "output_type": "execute_result"
    }
   ],
   "source": [
    "s = \"'apple' in 'orange' and apple 'tree'\"\n",
    "'apple' in s"
   ]
  },
  {
   "cell_type": "code",
   "execution_count": 67,
   "metadata": {},
   "outputs": [
    {
     "data": {
      "text/plain": [
       "True"
      ]
     },
     "execution_count": 67,
     "metadata": {},
     "output_type": "execute_result"
    }
   ],
   "source": [
    "30 not in (1,2,3,4)\n",
    "6 in range(100)"
   ]
  },
  {
   "cell_type": "code",
   "execution_count": 88,
   "metadata": {},
   "outputs": [
    {
     "name": "stdout",
     "output_type": "stream",
     "text": [
      "Alice avg: 89.0\n",
      "Bob avg: 82.0\n",
      "Charlie avg: 92.0\n",
      "Total avg: 87.66666666666667\n",
      "Over 90: ['Alice', 'Charlie']\n"
     ]
    }
   ],
   "source": [
    "scores = [\n",
    "    {'name': 'Alice', 'grades': [90,85,92]},\n",
    "    {'name': 'Bob', 'grades': [78,80,88]},\n",
    "    {'name': 'Charlie', 'grades': [95,92,89]}\n",
    "]\n",
    "\n",
    "total = 0\n",
    "num = 0\n",
    "over90 = []\n",
    "\n",
    "for s in scores:\n",
    "    print(f\"{s['name']} avg: {sum(s['grades'])/len(s['grades'])}\")\n",
    "    total += sum(s['grades'])\n",
    "    num += len(s['grades'])\n",
    "    if any(t >= 90 for t in s['grades'] ):\n",
    "        over90.append(s['name'])\n",
    "\n",
    "print(f\"Total avg: {total/num}\")\n",
    "print(f\"Over 90: {over90}\")"
   ]
  }
 ],
 "metadata": {
  "kernelspec": {
   "display_name": ".venv",
   "language": "python",
   "name": "python3"
  },
  "language_info": {
   "codemirror_mode": {
    "name": "ipython",
    "version": 3
   },
   "file_extension": ".py",
   "mimetype": "text/x-python",
   "name": "python",
   "nbconvert_exporter": "python",
   "pygments_lexer": "ipython3",
   "version": "3.11.2"
  }
 },
 "nbformat": 4,
 "nbformat_minor": 2
}

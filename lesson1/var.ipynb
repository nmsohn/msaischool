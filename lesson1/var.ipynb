{
 "cells": [
  {
   "cell_type": "code",
   "execution_count": null,
   "metadata": {},
   "outputs": [],
   "source": [
    "\n",
    "print(1%4)\n",
    "print(3//4)\n",
    "print(2*2)\n",
    "print(2**3)\n",
    "print(3/4)"
   ]
  },
  {
   "cell_type": "code",
   "execution_count": 12,
   "metadata": {},
   "outputs": [
    {
     "name": "stdout",
     "output_type": "stream",
     "text": [
      "1\n"
     ]
    }
   ],
   "source": [
    "def solution(a,b):\n",
    "    c = (a // 10**(b-1)) % 10\n",
    "    print(c)\n",
    "\n",
    "solution(1234, 4)"
   ]
  },
  {
   "cell_type": "code",
   "execution_count": 13,
   "metadata": {},
   "outputs": [
    {
     "name": "stdout",
     "output_type": "stream",
     "text": [
      "False\n",
      "True\n",
      "False\n",
      "True\n"
     ]
    }
   ],
   "source": [
    "print(5==2)\n",
    "print(5!=2)\n",
    "print(5<2)\n",
    "print(5>2)"
   ]
  },
  {
   "cell_type": "code",
   "execution_count": 16,
   "metadata": {},
   "outputs": [
    {
     "name": "stdout",
     "output_type": "stream",
     "text": [
      "False\n",
      "True\n",
      "True\n"
     ]
    }
   ],
   "source": [
    "print(not(5<9))\n",
    "print((3<5) and (3>0))\n",
    "print((4<7) or(5>8))"
   ]
  },
  {
   "cell_type": "code",
   "execution_count": 20,
   "metadata": {},
   "outputs": [
    {
     "ename": "SyntaxError",
     "evalue": "unterminated string literal (detected at line 2) (972842857.py, line 2)",
     "output_type": "error",
     "traceback": [
      "\u001b[1;36m  Cell \u001b[1;32mIn[20], line 2\u001b[1;36m\u001b[0m\n\u001b[1;33m    \"\"\"\"python\"\"\"\"\u001b[0m\n\u001b[1;37m                 ^\u001b[0m\n\u001b[1;31mSyntaxError\u001b[0m\u001b[1;31m:\u001b[0m unterminated string literal (detected at line 2)\n"
     ]
    }
   ],
   "source": [
    "# '''python'''\n",
    "\"\"\"\"python\"\"\"\""
   ]
  },
  {
   "cell_type": "code",
   "execution_count": 22,
   "metadata": {},
   "outputs": [
    {
     "data": {
      "text/plain": [
       "'sdfsafs\\nasfdsfsdfa\\nasdfasdfsdf\\n'"
      ]
     },
     "execution_count": 22,
     "metadata": {},
     "output_type": "execute_result"
    }
   ],
   "source": [
    "'''sfsfsd\n",
    "sdfsdfsdfs\n",
    "sdfsfdf'''\n",
    "\n",
    "\"\"\"sdfsafs\n",
    "asfdsfsdfa\n",
    "asdfasdfsdf\n",
    "\"\"\""
   ]
  },
  {
   "cell_type": "code",
   "execution_count": 23,
   "metadata": {},
   "outputs": [
    {
     "data": {
      "text/plain": [
       "'\"dfsdfd\"'"
      ]
     },
     "execution_count": 23,
     "metadata": {},
     "output_type": "execute_result"
    }
   ],
   "source": [
    "'\"dfsdfd\"'"
   ]
  },
  {
   "cell_type": "code",
   "execution_count": 24,
   "metadata": {},
   "outputs": [
    {
     "name": "stdout",
     "output_type": "stream",
     "text": [
      "hello 20 hello\n"
     ]
    }
   ],
   "source": [
    "print('hello', 20, 'hello')"
   ]
  },
  {
   "cell_type": "code",
   "execution_count": 26,
   "metadata": {},
   "outputs": [
    {
     "ename": "IndentationError",
     "evalue": "unexpected indent (4089279498.py, line 2)",
     "output_type": "error",
     "traceback": [
      "\u001b[1;36m  Cell \u001b[1;32mIn[26], line 2\u001b[1;36m\u001b[0m\n\u001b[1;33m    print('python')\u001b[0m\n\u001b[1;37m    ^\u001b[0m\n\u001b[1;31mIndentationError\u001b[0m\u001b[1;31m:\u001b[0m unexpected indent\n"
     ]
    }
   ],
   "source": [
    "print('hello')\n",
    " print('python')"
   ]
  },
  {
   "cell_type": "code",
   "execution_count": 27,
   "metadata": {},
   "outputs": [
    {
     "name": "stdout",
     "output_type": "stream",
     "text": [
      "'낮말'은 새가 듣고 '밤말'은 쥐가 듣는다\n"
     ]
    }
   ],
   "source": [
    "print(\"'낮말'은 새가 듣고 '밤말'은 쥐가 듣는다\")"
   ]
  },
  {
   "cell_type": "code",
   "execution_count": 30,
   "metadata": {},
   "outputs": [
    {
     "data": {
      "text/plain": [
       "'sdf'"
      ]
     },
     "execution_count": 30,
     "metadata": {},
     "output_type": "execute_result"
    }
   ],
   "source": [
    "s = \"sfdgdgdfsdfw\"\n",
    "s[-1]\n",
    "s[8:11]"
   ]
  },
  {
   "cell_type": "code",
   "execution_count": 31,
   "metadata": {},
   "outputs": [
    {
     "name": "stdout",
     "output_type": "stream",
     "text": [
      "eden\n"
     ]
    }
   ],
   "source": [
    "a = 'life is too short, you need python'\n",
    "print(a[25:27]+a[24:22:-1])"
   ]
  },
  {
   "cell_type": "code",
   "execution_count": null,
   "metadata": {},
   "outputs": [],
   "source": [
    "name = input('name: ')\n",
    "print('Welcome, '+name)\n"
   ]
  },
  {
   "cell_type": "code",
   "execution_count": 32,
   "metadata": {},
   "outputs": [
    {
     "name": "stdout",
     "output_type": "stream",
     "text": [
      "<class 'str'>\n"
     ]
    }
   ],
   "source": [
    "print(type('10'))"
   ]
  },
  {
   "cell_type": "code",
   "execution_count": 33,
   "metadata": {},
   "outputs": [
    {
     "name": "stdout",
     "output_type": "stream",
     "text": [
      "30\n"
     ]
    }
   ],
   "source": [
    "print(int('10') + int('20') )"
   ]
  },
  {
   "cell_type": "code",
   "execution_count": 34,
   "metadata": {},
   "outputs": [
    {
     "name": "stdout",
     "output_type": "stream",
     "text": [
      "10 10 30 hello 35\n"
     ]
    }
   ],
   "source": [
    "a=b=10\n",
    "c,d=30, 'hello'\n",
    "e = 35\n",
    "print(a,b,c,d,e)"
   ]
  },
  {
   "cell_type": "code",
   "execution_count": 37,
   "metadata": {},
   "outputs": [
    {
     "name": "stdout",
     "output_type": "stream",
     "text": [
      "점수1: 3\n",
      "점수2: 4\n",
      "3+4=7\n"
     ]
    }
   ],
   "source": [
    "a = input('점수1: ')\n",
    "b = input('점수2: ')\n",
    "print(f'점수1: {a}')\n",
    "print(f'점수2: {b}')\n",
    "print(f'{a}+{b}={int(a) + int(b)}')"
   ]
  },
  {
   "cell_type": "code",
   "execution_count": 39,
   "metadata": {},
   "outputs": [
    {
     "name": "stdout",
     "output_type": "stream",
     "text": [
      "삼각형의 넓이: 5.175\n",
      "5.17\n"
     ]
    }
   ],
   "source": [
    "w = input('width:')\n",
    "h = input('height:')\n",
    "result = float(w) * float(h) / 2\n",
    "print('삼각형의 넓이:', result)\n",
    "print(\"%.2f\" % result)"
   ]
  },
  {
   "cell_type": "code",
   "execution_count": 41,
   "metadata": {},
   "outputs": [
    {
     "name": "stdout",
     "output_type": "stream",
     "text": [
      "김밥주문갯수: 2\n",
      "떡볶이주문갯수: 1\n",
      "라면주문갯수: 2\n",
      "지불하실 금액은 14500원입니다\n"
     ]
    }
   ],
   "source": [
    "def solution(kimbab, ddeok, ramen):\n",
    "    total = kimbab * 3000 + ddeok * 3500 + ramen *2500\n",
    "\n",
    "    print(f'김밥주문갯수: {kimbab}')\n",
    "    print(f'떡볶이주문갯수: {ddeok}')\n",
    "    print(f'라면주문갯수: {ramen}')\n",
    "    print(f'지불하실 금액은 {total}원입니다')\n",
    "\n",
    "solution(2,1,2)\n"
   ]
  },
  {
   "cell_type": "code",
   "execution_count": 42,
   "metadata": {},
   "outputs": [
    {
     "name": "stdout",
     "output_type": "stream",
     "text": [
      "what do you want"
     ]
    }
   ],
   "source": [
    "print('what do you want', sep='',end='')"
   ]
  },
  {
   "cell_type": "code",
   "execution_count": 45,
   "metadata": {},
   "outputs": [
    {
     "name": "stdout",
     "output_type": "stream",
     "text": [
      "1.45\n"
     ]
    }
   ],
   "source": [
    "a = 1.453\n",
    "print(f'{a:.2f}')"
   ]
  },
  {
   "cell_type": "code",
   "execution_count": 49,
   "metadata": {},
   "outputs": [
    {
     "name": "stdout",
     "output_type": "stream",
     "text": [
      "반지름: 150.7\n",
      "원의둘레: 946.4\n",
      "원의넓이: 71,309.0\n"
     ]
    }
   ],
   "source": [
    "i = 150.698\n",
    "def solution(i):\n",
    "    r = float(i)\n",
    "    print(f'반지름: {r:.1f}')\n",
    "    print(f'원의둘레: {2 * r * 3.14:,.1f}')\n",
    "    print(f'원의넓이: {r *r * 3.14:,.1f}')\n",
    "\n",
    "solution(i)\n"
   ]
  },
  {
   "cell_type": "code",
   "execution_count": 51,
   "metadata": {},
   "outputs": [
    {
     "data": {
      "text/plain": [
       "False"
      ]
     },
     "execution_count": 51,
     "metadata": {},
     "output_type": "execute_result"
    }
   ],
   "source": [
    "bool(None)\n",
    "bool([])"
   ]
  },
  {
   "cell_type": "code",
   "execution_count": null,
   "metadata": {},
   "outputs": [],
   "source": [
    "num = int(input())\n",
    "\n",
    "if num % 2 == 0:\n",
    "    print('짝수입니다')\n",
    "else:\n",
    "    print('홀수입니다')"
   ]
  },
  {
   "cell_type": "code",
   "execution_count": 53,
   "metadata": {},
   "outputs": [
    {
     "name": "stdout",
     "output_type": "stream",
     "text": [
      "F\n"
     ]
    }
   ],
   "source": [
    "score = int(input('Your score: '))\n",
    "\n",
    "if score >= 90:\n",
    "    print('A')\n",
    "elif score >= 80:\n",
    "    print('B')\n",
    "elif score >=70:\n",
    "    print('C')\n",
    "elif score >= 60:\n",
    "    print('D')\n",
    "elif score < 60 and score >=0:\n",
    "    print('F')\n",
    "else:\n",
    "    print('Invalid score')"
   ]
  },
  {
   "cell_type": "code",
   "execution_count": 55,
   "metadata": {},
   "outputs": [
    {
     "name": "stdout",
     "output_type": "stream",
     "text": [
      "월\n"
     ]
    }
   ],
   "source": [
    "YOB = input('Year of Birth:')\n",
    "age = int(input('Age:'))\n",
    "\n",
    "digit = int(YOB[-1])\n",
    "\n",
    "if age >= 65:\n",
    "    print('월,화,수,목,금')\n",
    "else:\n",
    "    if digit == 1 or digit ==6: print('월')\n",
    "    elif digit == 2 or digit ==7: print('화')\n",
    "    elif digit == 3 or digit ==8: print('수')\n",
    "    elif digit == 4 or digit == 9: print('목')\n",
    "    elif digit == 5 or digit == 0: print('금')\n",
    "    else: print('Something went wrong')\n"
   ]
  },
  {
   "cell_type": "code",
   "execution_count": 56,
   "metadata": {},
   "outputs": [
    {
     "name": "stdout",
     "output_type": "stream",
     "text": [
      "짝수 차량 운행날입니다\n",
      "운행 가능\n"
     ]
    }
   ],
   "source": [
    "day=int(input('day of the month:'))\n",
    "\n",
    "if day < 1 or day > 31:\n",
    "    print('입력 오류입니다')\n",
    "\n",
    "plate = int(input('plate number'))\n",
    "\n",
    "if plate % 2 == 0:\n",
    "    print('짝수 차량 운행날입니다')\n",
    "    if day % 2 == 0:\n",
    "        print('운행 가능')\n",
    "    else:\n",
    "        print('운행 가능날 아닙니다')\n",
    "else:\n",
    "    print('홀수 차량 운행날입니다')\n",
    "    if day % 2 != 0:\n",
    "        print('운행 가능')\n",
    "    else:\n",
    "        print('운행 가능날 아닙니다')"
   ]
  },
  {
   "cell_type": "code",
   "execution_count": null,
   "metadata": {},
   "outputs": [],
   "source": [
    "number = 0\n",
    "\n",
    "while number != 4:\n",
    "    print(number)\n",
    "    number = int(input())"
   ]
  },
  {
   "cell_type": "code",
   "execution_count": 59,
   "metadata": {},
   "outputs": [
    {
     "name": "stdout",
     "output_type": "stream",
     "text": [
      "500500\n"
     ]
    }
   ],
   "source": [
    "endValue = int(input('합을 원하는 정수값 입력: '))\n",
    "s = 0\n",
    "\n",
    "while endValue > 0:\n",
    "    s += endValue\n",
    "    endValue -= 1\n",
    "print(s)"
   ]
  },
  {
   "cell_type": "code",
   "execution_count": null,
   "metadata": {},
   "outputs": [],
   "source": [
    "h = 185 / 100\n",
    "w = 75\n",
    "\n",
    "bmi = w / h**2\n",
    "\n",
    "if bmi >=25:\n",
    "    print('비만')\n",
    "elif bmi < 25 and bmi >=23:\n",
    "    print('과체중')\n",
    "elif bmi <23 and bmi >=18:\n",
    "    print('정상체중')\n",
    "else:\n",
    "    print('저체중')"
   ]
  },
  {
   "cell_type": "code",
   "execution_count": 66,
   "metadata": {},
   "outputs": [
    {
     "name": "stdout",
     "output_type": "stream",
     "text": [
      "1 x 9= 9\n",
      "2 x 9= 18\n",
      "3 x 9= 27\n",
      "4 x 9= 36\n",
      "5 x 9= 45\n",
      "6 x 9= 54\n",
      "7 x 9= 63\n",
      "8 x 9= 72\n",
      "9 x 9= 81\n"
     ]
    }
   ],
   "source": [
    "dan = int(input('출력할 단: '))\n",
    "\n",
    "# for i in range(1, 10):\n",
    "#     print(f'{i} x {dan}= {i * dan}')\n",
    "i=1\n",
    "while i < 10:\n",
    "    print(f'{i} x {dan}= {i * dan}')\n",
    "    i += 1"
   ]
  },
  {
   "cell_type": "code",
   "execution_count": null,
   "metadata": {},
   "outputs": [],
   "source": [
    "import random\n",
    "\n",
    "answer = random.randint(1,100)\n",
    "\n",
    "while True:\n",
    "    user = int(input('answer:'))\n",
    "    if user > answer:\n",
    "        '너무 커요'\n",
    "    elif user < answer:\n",
    "        '너무 작아요'\n",
    "    else:\n",
    "        '?'"
   ]
  },
  {
   "cell_type": "code",
   "execution_count": 72,
   "metadata": {},
   "outputs": [
    {
     "name": "stdout",
     "output_type": "stream",
     "text": [
      "1 2 4 7 8 11 13 14 16 17 19 "
     ]
    }
   ],
   "source": [
    "n = 0\n",
    "\n",
    "while True:\n",
    "    n+=1\n",
    "    if n > 20:\n",
    "        break\n",
    "    if n % 3 == 0 or n % 5 == 0:\n",
    "        continue\n",
    "    print(n, end = \" \")"
   ]
  },
  {
   "cell_type": "code",
   "execution_count": 77,
   "metadata": {},
   "outputs": [
    {
     "name": "stdout",
     "output_type": "stream",
     "text": [
      "1 2 짝 4 5 짝 7 8 짝 10 11 12 짝 14 15 짝 17 18 짝 20 21 22 짝 24 25 짝 27 28 짝 30 31 32 짝 짝 "
     ]
    }
   ],
   "source": [
    "limit = int(input('얼마까지 진행'))\n",
    "\n",
    "for i in range(1,limit+1):\n",
    "    n = len(str(limit))\n",
    "    doub = i % (1+ (10**(n-1)))\n",
    "    if i % 10 == 3 or i % 10 == 6 or i % 10 == 9:\n",
    "        print('짝', end=' ')\n",
    "        if doub % 11 == 0:\n",
    "            print('짝', end=' ')\n",
    "    else:\n",
    "        print(i, end=' ')"
   ]
  },
  {
   "cell_type": "code",
   "execution_count": 78,
   "metadata": {},
   "outputs": [
    {
     "name": "stdout",
     "output_type": "stream",
     "text": [
      "\n",
      "*\n",
      "**\n",
      "***\n",
      "****\n",
      "*****\n",
      "******\n",
      "*******\n",
      "********\n",
      "*********\n"
     ]
    }
   ],
   "source": [
    "for i in range(10):\n",
    "    print('*' * i)"
   ]
  },
  {
   "cell_type": "code",
   "execution_count": 80,
   "metadata": {},
   "outputs": [
    {
     "name": "stdout",
     "output_type": "stream",
     "text": [
      "**********\n",
      "*********\n",
      "********\n",
      "*******\n",
      "******\n",
      "*****\n",
      "****\n",
      "***\n",
      "**\n",
      "*\n"
     ]
    }
   ],
   "source": [
    "for i in range(10, 0, -1):\n",
    "    print('*' * i)"
   ]
  },
  {
   "cell_type": "code",
   "execution_count": 82,
   "metadata": {},
   "outputs": [
    {
     "name": "stdout",
     "output_type": "stream",
     "text": [
      "           \n",
      "          *\n",
      "         **\n",
      "        ***\n",
      "       ****\n",
      "      *****\n",
      "     ******\n",
      "    *******\n",
      "   ********\n",
      "  *********\n"
     ]
    }
   ],
   "source": [
    "for i in range(10):\n",
    "    print(' ' * (10-i), '*' * i)"
   ]
  },
  {
   "cell_type": "code",
   "execution_count": 121,
   "metadata": {},
   "outputs": [
    {
     "name": "stdout",
     "output_type": "stream",
     "text": [
      "         *\n",
      "        ***\n",
      "       *****\n",
      "      *******\n",
      "     *********\n",
      "    ***********\n",
      "   *************\n",
      "  ***************\n",
      " *****************\n",
      "*******************\n"
     ]
    }
   ],
   "source": [
    "for i in range(10, 0, -1):\n",
    "    for j in range(0, i-1):\n",
    "        print(' ', end='')\n",
    "    for k in range(0, (10-i)*2+1):\n",
    "        print('*', end ='')\n",
    "    print()\n",
    "\n",
    "# for i in range(1,n+1):\n",
    "#     print(\" \"*(n-i) + \"*\" * (2*i-1))\n",
    "\n",
    "# for i in range(n):\n",
    "# \t    for j in range(n-1-i):\n",
    "# \t        print(\" \", end=\"\")\n",
    "# \t    for j in range(0,2*i+1):\n",
    "# \t        print(\"*\", end=\"\")\n",
    "# \t    print()"
   ]
  }
 ],
 "metadata": {
  "kernelspec": {
   "display_name": ".venv",
   "language": "python",
   "name": "python3"
  },
  "language_info": {
   "codemirror_mode": {
    "name": "ipython",
    "version": 3
   },
   "file_extension": ".py",
   "mimetype": "text/x-python",
   "name": "python",
   "nbconvert_exporter": "python",
   "pygments_lexer": "ipython3",
   "version": "3.11.2"
  }
 },
 "nbformat": 4,
 "nbformat_minor": 2
}
